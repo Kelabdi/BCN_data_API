{
 "cells": [
  {
   "cell_type": "code",
   "execution_count": 1,
   "id": "2fe71ee2",
   "metadata": {},
   "outputs": [],
   "source": [
    "import requests\n"
   ]
  },
  {
   "cell_type": "code",
   "execution_count": 7,
   "id": "42ce6651",
   "metadata": {},
   "outputs": [],
   "source": [
    "url = \"https://opendata-ajuntament.barcelona.cat/data/api/3/action/package_search\"\n",
    "res = requests.get(url).json()"
   ]
  },
  {
   "cell_type": "code",
   "execution_count": 17,
   "id": "7a727d3b",
   "metadata": {},
   "outputs": [
    {
     "data": {
      "text/plain": [
       "dict_keys(['help', 'success', 'result'])"
      ]
     },
     "execution_count": 17,
     "metadata": {},
     "output_type": "execute_result"
    }
   ],
   "source": [
    "res.keys()"
   ]
  },
  {
   "cell_type": "code",
   "execution_count": 26,
   "id": "66613542",
   "metadata": {},
   "outputs": [],
   "source": [
    "lis = res[\"result\"][\"results\"]\n",
    "data = [{\"name\":x[\"notes_translated\"][\"en\"],\"link\":x[\"resources\"][0][\"url\"]} for x in lis]"
   ]
  },
  {
   "cell_type": "code",
   "execution_count": 30,
   "id": "d3427303",
   "metadata": {},
   "outputs": [
    {
     "data": {
      "text/plain": [
       "[{'name': 'Viewpoints in teh city of Barcelona',\n",
       "  'link': 'https://opendata-ajuntament.barcelona.cat/data/dataset/4b4c7f7e-1815-4f60-a580-ef3a7df2d534/resource/50e946a8-f4a2-4a16-8b40-6553bf4ccd81/download'},\n",
       " {'name': 'Graves in the city of Barcelona',\n",
       "  'link': 'https://opendata-ajuntament.barcelona.cat/data/dataset/df302514-4099-4af0-ad03-07cb1f1c9f9d/resource/136dc1f9-9386-49bf-ad8a-32fcdd03c785/download'},\n",
       " {'name': 'Authorizations for exceptional terraces (DECREE 21/5) in public spaces in the city of Barcelona. These are food business and catering businesses that, due to a specific type, are allowed for authorization. ',\n",
       "  'link': 'https://opendata-ajuntament.barcelona.cat/data/dataset/9bb28151-ea67-4724-8d59-3c93376cd175/resource/700d8a29-c977-4bc0-965d-f4c2553cde1f/download'},\n",
       " {'name': 'Climate shelters network in the city of Barcelona',\n",
       "  'link': 'https://opendata-ajuntament.barcelona.cat/data/dataset/8f9da263-ff41-4765-ab0d-61b97d7a00b2/resource/7ecae024-6cb2-427d-b2d0-e170500e2a38/download'},\n",
       " {'name': 'Consulates in the city of Barcelona',\n",
       "  'link': 'https://opendata-ajuntament.barcelona.cat/data/dataset/79c4a877-33ce-484a-b626-f82b4506d5f2/resource/873e7692-cae0-4c7d-ac44-5cbc99843b39/download'},\n",
       " {'name': 'Dog friendly areas in the city of Barcelona',\n",
       "  'link': 'https://opendata-ajuntament.barcelona.cat/data/dataset/40eae7c8-f058-451b-ba22-36d3d1f737b2/resource/fd4415e3-b7dc-4173-bb88-685401de191f/download'},\n",
       " {'name': 'Disposable household income per capita in the city of Barcelona',\n",
       "  'link': 'https://opendata-ajuntament.barcelona.cat/data/dataset/78db0c75-fa56-4604-9510-8b92834a7fd2/resource/34ededd1-6271-4b9b-bac9-18a3fc264a48/download'},\n",
       " {'name': 'Municipal vehicle pounds in the city of Barcelona ',\n",
       "  'link': 'https://opendata-ajuntament.barcelona.cat/data/dataset/ec775f53-6fc4-482c-b98b-23085d71590b/resource/0ac28187-6fe6-4049-b7b7-19d0cf67ce63/download'},\n",
       " {'name': 'Time banks in the city of Barcelona',\n",
       "  'link': 'https://opendata-ajuntament.barcelona.cat/data/dataset/3445a7fd-d049-4526-ac39-b1151876fc66/resource/549275f9-8c5b-40c2-96c8-d5b4ecae175f/download'},\n",
       " {'name': 'Car rental in the city of Barcelona ',\n",
       "  'link': 'https://opendata-ajuntament.barcelona.cat/data/dataset/f0423337-fd0e-4bbc-b133-2ad5366fab81/resource/8b15394e-75ed-421e-b572-075235bb5f16/download'}]"
      ]
     },
     "execution_count": 30,
     "metadata": {},
     "output_type": "execute_result"
    }
   ],
   "source": [
    "data"
   ]
  },
  {
   "cell_type": "code",
   "execution_count": null,
   "id": "3730bb81",
   "metadata": {},
   "outputs": [],
   "source": []
  },
  {
   "cell_type": "code",
   "execution_count": null,
   "id": "314e462a",
   "metadata": {},
   "outputs": [],
   "source": []
  }
 ],
 "metadata": {
  "kernelspec": {
   "display_name": "Python 3",
   "language": "python",
   "name": "python3"
  },
  "language_info": {
   "codemirror_mode": {
    "name": "ipython",
    "version": 3
   },
   "file_extension": ".py",
   "mimetype": "text/x-python",
   "name": "python",
   "nbconvert_exporter": "python",
   "pygments_lexer": "ipython3",
   "version": "3.9.5"
  }
 },
 "nbformat": 4,
 "nbformat_minor": 5
}
